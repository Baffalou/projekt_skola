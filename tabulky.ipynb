{
 "cells": [
  {
   "cell_type": "code",
   "execution_count": 25,
   "id": "b63eeddb-b5c3-4c25-bcaf-26b30a8589fb",
   "metadata": {},
   "outputs": [],
   "source": [
    "import pandas as pd \n"
   ]
  },
  {
   "cell_type": "code",
   "execution_count": 26,
   "id": "1bbbbd18-f193-476f-8a3c-4a2a808c671c",
   "metadata": {},
   "outputs": [
    {
     "name": "stdout",
     "output_type": "stream",
     "text": [
      "↓Týdenní rozvrh.↓\n"
     ]
    }
   ],
   "source": [
    "print(\"↓Týdenní rozvrh.↓\")\n",
    "tabulka = pd.read_csv(\"rozvrh.csv\")"
   ]
  },
  {
   "cell_type": "code",
   "execution_count": 27,
   "id": "0ec0a06c-e4db-4a7e-b2a6-d06aa2d819ae",
   "metadata": {},
   "outputs": [
    {
     "data": {
      "text/html": [
       "<div>\n",
       "<style scoped>\n",
       "    .dataframe tbody tr th:only-of-type {\n",
       "        vertical-align: middle;\n",
       "    }\n",
       "\n",
       "    .dataframe tbody tr th {\n",
       "        vertical-align: top;\n",
       "    }\n",
       "\n",
       "    .dataframe thead th {\n",
       "        text-align: right;\n",
       "    }\n",
       "</style>\n",
       "<table border=\"1\" class=\"dataframe\">\n",
       "  <thead>\n",
       "    <tr style=\"text-align: right;\">\n",
       "      <th></th>\n",
       "      <th>Pondělí</th>\n",
       "      <th>Úterý</th>\n",
       "      <th>Středa</th>\n",
       "      <th>Čtvrtek</th>\n",
       "      <th>Pátek</th>\n",
       "    </tr>\n",
       "  </thead>\n",
       "  <tbody>\n",
       "    <tr>\n",
       "      <th>0</th>\n",
       "      <td></td>\n",
       "      <td></td>\n",
       "      <td>Tělocvik</td>\n",
       "      <td>Tělocvik</td>\n",
       "      <td></td>\n",
       "    </tr>\n",
       "    <tr>\n",
       "      <th>1</th>\n",
       "      <td>Matematika</td>\n",
       "      <td>Informatika</td>\n",
       "      <td>Matematika</td>\n",
       "      <td>Cizí jazyk</td>\n",
       "      <td>Managment</td>\n",
       "    </tr>\n",
       "    <tr>\n",
       "      <th>2</th>\n",
       "      <td>Informatika</td>\n",
       "      <td>Teorie grafů</td>\n",
       "      <td>Teorie grafů</td>\n",
       "      <td>Teorie grafů</td>\n",
       "      <td>Krizové řízení</td>\n",
       "    </tr>\n",
       "    <tr>\n",
       "      <th>3</th>\n",
       "      <td>Informatika</td>\n",
       "      <td></td>\n",
       "      <td></td>\n",
       "      <td>Matematika</td>\n",
       "      <td>Teorie grafů</td>\n",
       "    </tr>\n",
       "    <tr>\n",
       "      <th>4</th>\n",
       "      <td></td>\n",
       "      <td>Managment</td>\n",
       "      <td>Informatika</td>\n",
       "      <td></td>\n",
       "      <td></td>\n",
       "    </tr>\n",
       "    <tr>\n",
       "      <th>5</th>\n",
       "      <td>Cizí jazyk</td>\n",
       "      <td></td>\n",
       "      <td>Informatika</td>\n",
       "      <td>Matematika</td>\n",
       "      <td>NaN</td>\n",
       "    </tr>\n",
       "  </tbody>\n",
       "</table>\n",
       "</div>"
      ],
      "text/plain": [
       "       Pondělí         Úterý        Středa        Čtvrtek           Pátek\n",
       "0                                 Tělocvik       Tělocvik                \n",
       "1   Matematika   Informatika    Matematika     Cizí jazyk       Managment\n",
       "2  Informatika  Teorie grafů  Teorie grafů   Teorie grafů  Krizové řízení\n",
       "3  Informatika                                 Matematika    Teorie grafů\n",
       "4                  Managment   Informatika                               \n",
       "5   Cizí jazyk                 Informatika     Matematika             NaN"
      ]
     },
     "execution_count": 27,
     "metadata": {},
     "output_type": "execute_result"
    }
   ],
   "source": [
    "tabulka"
   ]
  },
  {
   "cell_type": "code",
   "execution_count": 28,
   "id": "31f1d0d7-a258-4f81-ad50-913aba9e4214",
   "metadata": {},
   "outputs": [
    {
     "data": {
      "text/plain": [
       "pandas.core.frame.DataFrame"
      ]
     },
     "execution_count": 28,
     "metadata": {},
     "output_type": "execute_result"
    }
   ],
   "source": [
    "\n",
    "type(tabulka)"
   ]
  },
  {
   "cell_type": "code",
   "execution_count": 29,
   "id": "25162901-b6e0-43dd-abe1-416e147d8488",
   "metadata": {},
   "outputs": [
    {
     "data": {
      "text/plain": [
       "0        Tělocvik\n",
       "1      Matematika\n",
       "2    Teorie grafů\n",
       "3                \n",
       "4     Informatika\n",
       "5     Informatika\n",
       "Name: Středa, dtype: object"
      ]
     },
     "execution_count": 29,
     "metadata": {},
     "output_type": "execute_result"
    }
   ],
   "source": [
    "streda = tabulka[\"Středa\"]\n",
    "streda"
   ]
  },
  {
   "cell_type": "code",
   "execution_count": 30,
   "id": "81e48cb3-595d-44d8-8b2e-4cbc3857fd78",
   "metadata": {},
   "outputs": [
    {
     "name": "stdout",
     "output_type": "stream",
     "text": [
      "◄Rozvrh úspěšne načten ☺!►\n"
     ]
    }
   ],
   "source": [
    " print(\"◄Rozvrh úspěšne načten ☺!►\")"
   ]
  },
  {
   "cell_type": "code",
   "execution_count": 31,
   "id": "28b93c4b-4df6-416e-b1f0-b89b8bd8bd9d",
   "metadata": {},
   "outputs": [],
   "source": [
    "import pandas as pd"
   ]
  },
  {
   "cell_type": "code",
   "execution_count": 32,
   "id": "020ba23e-2766-4c73-9597-9262c5da8286",
   "metadata": {},
   "outputs": [],
   "source": [
    "po = pd.Series([\"matematika\", \"informatika\", \"Teorie grafů\"])\n",
    "ut = pd.Series([\"informatika\", \"informatika\", \"cizí jazyk\"])\n",
    "st = pd.Series([\"teorie grafů\", \"matematika\", \"informatika\"])\n",
    "ct = pd.Series([\"matematika\", \"matematika\", \"volno\"])\n",
    "pa = pd.Series([\"cizí jazyk\", \"informatika\", \"volno\"])"
   ]
  },
  {
   "cell_type": "code",
   "execution_count": 33,
   "id": "0e9addaa-f632-4a8b-bb14-e34b67080aa5",
   "metadata": {},
   "outputs": [
    {
     "data": {
      "text/html": [
       "<div>\n",
       "<style scoped>\n",
       "    .dataframe tbody tr th:only-of-type {\n",
       "        vertical-align: middle;\n",
       "    }\n",
       "\n",
       "    .dataframe tbody tr th {\n",
       "        vertical-align: top;\n",
       "    }\n",
       "\n",
       "    .dataframe thead th {\n",
       "        text-align: right;\n",
       "    }\n",
       "</style>\n",
       "<table border=\"1\" class=\"dataframe\">\n",
       "  <thead>\n",
       "    <tr style=\"text-align: right;\">\n",
       "      <th></th>\n",
       "      <th>0</th>\n",
       "      <th>1</th>\n",
       "      <th>2</th>\n",
       "      <th>3</th>\n",
       "      <th>4</th>\n",
       "    </tr>\n",
       "  </thead>\n",
       "  <tbody>\n",
       "    <tr>\n",
       "      <th>0</th>\n",
       "      <td>matematika</td>\n",
       "      <td>informatika</td>\n",
       "      <td>teorie grafů</td>\n",
       "      <td>matematika</td>\n",
       "      <td>cizí jazyk</td>\n",
       "    </tr>\n",
       "    <tr>\n",
       "      <th>1</th>\n",
       "      <td>informatika</td>\n",
       "      <td>informatika</td>\n",
       "      <td>matematika</td>\n",
       "      <td>matematika</td>\n",
       "      <td>informatika</td>\n",
       "    </tr>\n",
       "    <tr>\n",
       "      <th>2</th>\n",
       "      <td>Teorie grafů</td>\n",
       "      <td>cizí jazyk</td>\n",
       "      <td>informatika</td>\n",
       "      <td>volno</td>\n",
       "      <td>volno</td>\n",
       "    </tr>\n",
       "  </tbody>\n",
       "</table>\n",
       "</div>"
      ],
      "text/plain": [
       "              0            1             2           3            4\n",
       "0    matematika  informatika  teorie grafů  matematika   cizí jazyk\n",
       "1   informatika  informatika    matematika  matematika  informatika\n",
       "2  Teorie grafů   cizí jazyk   informatika       volno        volno"
      ]
     },
     "execution_count": 33,
     "metadata": {},
     "output_type": "execute_result"
    }
   ],
   "source": [
    "pd.concat([po, ut, st, ct, pa], axis=\"columns\")\n"
   ]
  },
  {
   "cell_type": "code",
   "execution_count": 34,
   "id": "88268b23-5c36-4eeb-b6c2-d7e6fb852231",
   "metadata": {},
   "outputs": [],
   "source": [
    "import pandas as pd"
   ]
  },
  {
   "cell_type": "code",
   "execution_count": 35,
   "id": "45643512-51bf-4b41-9c28-6de7a12288b0",
   "metadata": {},
   "outputs": [
    {
     "data": {
      "text/html": [
       "<div>\n",
       "<style scoped>\n",
       "    .dataframe tbody tr th:only-of-type {\n",
       "        vertical-align: middle;\n",
       "    }\n",
       "\n",
       "    .dataframe tbody tr th {\n",
       "        vertical-align: top;\n",
       "    }\n",
       "\n",
       "    .dataframe thead th {\n",
       "        text-align: right;\n",
       "    }\n",
       "</style>\n",
       "<table border=\"1\" class=\"dataframe\">\n",
       "  <thead>\n",
       "    <tr style=\"text-align: right;\">\n",
       "      <th></th>\n",
       "      <th>pondeli</th>\n",
       "      <th>utery</th>\n",
       "      <th>streda</th>\n",
       "      <th>ctvrtek</th>\n",
       "      <th>patek</th>\n",
       "    </tr>\n",
       "  </thead>\n",
       "  <tbody>\n",
       "    <tr>\n",
       "      <th>0</th>\n",
       "      <td>matematika</td>\n",
       "      <td>matematika</td>\n",
       "      <td>matematika</td>\n",
       "      <td>matematika</td>\n",
       "      <td>matematika</td>\n",
       "    </tr>\n",
       "    <tr>\n",
       "      <th>1</th>\n",
       "      <td>informatika</td>\n",
       "      <td>informatika</td>\n",
       "      <td>informatika</td>\n",
       "      <td>informatika</td>\n",
       "      <td>informatika</td>\n",
       "    </tr>\n",
       "    <tr>\n",
       "      <th>2</th>\n",
       "      <td>Teorie grafů</td>\n",
       "      <td>Teorie grafů</td>\n",
       "      <td>Teorie grafů</td>\n",
       "      <td>Teorie grafů</td>\n",
       "      <td>Teorie grafů</td>\n",
       "    </tr>\n",
       "  </tbody>\n",
       "</table>\n",
       "</div>"
      ],
      "text/plain": [
       "        pondeli         utery        streda       ctvrtek         patek\n",
       "0    matematika    matematika    matematika    matematika    matematika\n",
       "1   informatika   informatika   informatika   informatika   informatika\n",
       "2  Teorie grafů  Teorie grafů  Teorie grafů  Teorie grafů  Teorie grafů"
      ]
     },
     "execution_count": 35,
     "metadata": {},
     "output_type": "execute_result"
    }
   ],
   "source": [
    "pd.DataFrame({\n",
    "    \"pondeli\": [\"matematika\", \"informatika\", \"Teorie grafů\"],\n",
    "    \"utery\": [\"matematika\", \"informatika\", \"Teorie grafů\"],\n",
    "    \"streda\": [\"matematika\", \"informatika\", \"Teorie grafů\"],\n",
    "    \"ctvrtek\": [\"matematika\", \"informatika\", \"Teorie grafů\"],\n",
    "    \"patek\": [\"matematika\", \"informatika\", \"Teorie grafů\"]\n",
    "})"
   ]
  },
  {
   "cell_type": "code",
   "execution_count": null,
   "id": "12129863-c96b-4483-99f3-2d11f977182c",
   "metadata": {},
   "outputs": [],
   "source": []
  }
 ],
 "metadata": {
  "kernelspec": {
   "display_name": "Python 3 (ipykernel)",
   "language": "python",
   "name": "python3"
  },
  "language_info": {
   "codemirror_mode": {
    "name": "ipython",
    "version": 3
   },
   "file_extension": ".py",
   "mimetype": "text/x-python",
   "name": "python",
   "nbconvert_exporter": "python",
   "pygments_lexer": "ipython3",
   "version": "3.10.3"
  }
 },
 "nbformat": 4,
 "nbformat_minor": 5
}
